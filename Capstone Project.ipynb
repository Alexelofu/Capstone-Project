{
 "cells": [
  {
   "cell_type": "markdown",
   "metadata": {},
   "source": [
    "# TASK DETAILS\n",
    "#### The task aims at better describing the onboard task given with newly gained knowledge from python programming knowledge. Task further includes;\n",
    "1. For each variable, create a summary statistics that tells you about the data type.\n",
    "2. For each variable, use a summary metric that helps you describe the data.\n",
    "3. For each variable. provide a graphical representation of the data distribution.\n",
    "4. Create a new variable “average_score” represented from “math”, “reading” and “writing” scores.\n",
    "5. Create another variable “average_score_cat” that categorises the “average_score” using WAEC grading system.\n",
    "6. Find a relationship (if any) between each variable and the new variable “average_score_cat”.\n",
    "7. Create graphical representation of the relationship(s) discovered in 6.\n",
    "8. Develop an hypothesis about which variables that can help predict the “average_score_cat” of a new student.\n",
    "\n"
   ]
  },
  {
   "cell_type": "markdown",
   "metadata": {},
   "source": [
    "# ABSTRACT\n",
    "This project gives a descriptive analysis of a dataset consisting of test scores of student in three\n",
    "subjects and determining the relationship between the scores of the students and their gender, economic,\n",
    "personal and social attributes.\n",
    "The given data set was sourced from a Kaggle challenge and consisted of a 1000 rows and 8\n",
    "columns of qualitative and quantitative data. Univariate and Multivariate analysis of the dataset was carried out using Python and its libraries."
   ]
  },
  {
   "cell_type": "markdown",
   "metadata": {},
   "source": [
    "# DATA SET PREPARATION\n",
    "The data Set contains 1000 rows and 8 columns. Data was checked for special character or white spaces to avoid difficulties in analyses.Datawas also checked for missing values.There are 3 sets of quantitative variables and 5 sets of qualitative variables. The required python libraries are run in order to use their functions and methods for the Univariate Analysis and while Ms.Excel would be used to conduct the Multivariate Analysis"
   ]
  }
 ],
 "metadata": {
  "kernelspec": {
   "display_name": "Python 3",
   "language": "python",
   "name": "python3"
  },
  "language_info": {
   "codemirror_mode": {
    "name": "ipython",
    "version": 3
   },
   "file_extension": ".py",
   "mimetype": "text/x-python",
   "name": "python",
   "nbconvert_exporter": "python",
   "pygments_lexer": "ipython3",
   "version": "3.8.3"
  }
 },
 "nbformat": 4,
 "nbformat_minor": 4
}
